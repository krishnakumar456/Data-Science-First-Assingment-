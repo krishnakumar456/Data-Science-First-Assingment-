{
  "nbformat": 4,
  "nbformat_minor": 0,
  "metadata": {
    "colab": {
      "provenance": []
    },
    "kernelspec": {
      "name": "python3",
      "display_name": "Python 3"
    },
    "language_info": {
      "name": "python"
    }
  },
  "cells": [
    {
      "cell_type": "markdown",
      "source": [
        "\n",
        "#Assignment 1\n",
        "\n"
      ],
      "metadata": {
        "id": "3-VecaeCkLNT"
      }
    },
    {
      "cell_type": "markdown",
      "source": [
        "Question:1.-  What is Python, and why is it popular\n",
        "\n",
        "Answer:-\n",
        "Python is a high-level, interpreted programming language known for its simplicity and readability. It was created by Guido van Rossum and first released in 1991. Python emphasizes code clarity and allows developers to express concepts in fewer lines of code compared to other languages.\n",
        "\n",
        "Python is used in various domains, including:\n",
        "\n",
        "* Web development (e.g., using Django, Flask)\n",
        "* Data science and machine learning (e.g., using pandas, NumPy, scikit-learn, TensorFlow)\n",
        "* Automation/scripting\n",
        "*Game development\n",
        "*Cybersecurity\n",
        "*Artificial intelligence\n",
        "*APIs and backend services\n",
        "\n",
        "Python’s popularity stems from a mix of technical strengths and community support:\n",
        "\n",
        "Here are the key reasons why Python is popular:\n",
        "\n",
        "*Ease of learning:-\n",
        "\n",
        "    Python has a simple, English-like syntax, making it beginner-friendly.\n",
        "*Large ecosystem:-\n",
        "\n",
        "    Python has Thousands of libraries and frameworks make it useful for almost any task made by mix of technical strengths and community support.\n",
        "*Cross-platform\n",
        "\n",
        "    Python can Works on Windows, macOS, Linux, etc\n",
        "*Active community:-\n",
        "\n",
        "    It has Strong support via forums, tutorials, and open-source contributions.\n",
        "*Versatility\n",
        "\n",
        "    Python Used for web apps, data analysis, AI, automation, and more.\n",
        "*Integration\n",
        "\n",
        "    It Works well with other languages like C/C++, and tools like Jupyter Notebooks.\n",
        "*Demand in job market\n",
        "\n",
        "    Python developers are in high demand, especially in tech and data-driven industries.\n"
      ],
      "metadata": {
        "id": "jbeF3sWvkSzx"
      }
    },
    {
      "cell_type": "markdown",
      "source": [
        "#"
      ],
      "metadata": {
        "id": "MhbvFaQIrxM9"
      }
    },
    {
      "cell_type": "markdown",
      "source": [
        "Question.2:-  What is an interpreter in Python?\n",
        "\n",
        "Answer:-An interpreter in Python is a program that reads and executes Python code line by line, rather than compiling the entire code into machine language beforehand.\n",
        "For Example:\n",
        "\n",
        "When you run a Python script:\n",
        "- The Python interpreter reads the first line of code.\n",
        "- It translates that line into machine instructions.\n",
        "- It executes the instructions immediately.\n",
        "- Then it moves to the next line—and repeats the process.\n",
        "\n",
        "\n",
        "\n",
        "\n"
      ],
      "metadata": {
        "id": "YacUXMU_pyRf"
      }
    },
    {
      "cell_type": "markdown",
      "source": [
        "#"
      ],
      "metadata": {
        "id": "zcUzRKXlrzW2"
      }
    },
    {
      "cell_type": "markdown",
      "source": [
        "Question.3:What are pre-defined keywords in Python ?\n",
        "\n",
        "Answer:- Pre-defined keywords in Python are reserved words that have special meaning in the language.\n",
        "You cannot use them as variable names, function names, or identifiers because Python uses them to define its syntax and structure.\n",
        "Here are some commonly used Python keywords:\n",
        "\n",
        "if\n",
        "else\n",
        "elif\n",
        "for\n",
        "while\n",
        "break\n",
        "continue\n",
        "def\n",
        "return\n",
        "class\n",
        "import\n",
        "from\n",
        "True /False"
      ],
      "metadata": {
        "id": "1g9EMj9jq124"
      }
    },
    {
      "cell_type": "markdown",
      "source": [
        "#"
      ],
      "metadata": {
        "id": "PUJ0LPwRr4rO"
      }
    },
    {
      "cell_type": "markdown",
      "source": [
        "Question.4:Can keywords be used as variable names ?\n",
        "\n",
        "Answer:- No, keywords cannot be used as variable names in Python.\n",
        "\n"
      ],
      "metadata": {
        "id": "0EBoLW9SriaF"
      }
    },
    {
      "cell_type": "markdown",
      "source": [
        "#"
      ],
      "metadata": {
        "id": "TLH34yOyr5t0"
      }
    },
    {
      "cell_type": "markdown",
      "source": [
        "Question.5: What is mutability in Python ?\n",
        "\n",
        "Answer:-Mutability refers to whether an object’s value can be changed after it’s created. In Python, some data types are mutable (can be changed)i.e.\tlist, dict, set.\n"
      ],
      "metadata": {
        "id": "CM64SgV4r7G1"
      }
    },
    {
      "cell_type": "markdown",
      "source": [
        "#"
      ],
      "metadata": {
        "id": "Tiqsc8ZBsbAd"
      }
    },
    {
      "cell_type": "markdown",
      "source": [
        "Question .6.Why are lists mutable, but tuples are immutable ?\n",
        "\n",
        "Answer:-A list is designed to be a flexible, dynamic data structure.You can add, remove, or change elements.It's built to allow modifications after creation.Python internally uses pointers and dynamic memory for lists, allowing them to grow or shrink.\n",
        "\n",
        "While on the other hand A tuple is meant to be a fixed, unchangeable collection of values.You cannot change the contents once it's created.This makes tuples hashable, so they can be used as dictionary keys or in sets.They also offer performance advantages (faster, use less memory)."
      ],
      "metadata": {
        "id": "zVEjHSkcsbzF"
      }
    },
    {
      "cell_type": "markdown",
      "source": [
        "#"
      ],
      "metadata": {
        "id": "Yil0gkJdtRSM"
      }
    },
    {
      "cell_type": "markdown",
      "source": [
        "Question.7.What is the difference between “==” and “is” operators in Python ?\n",
        "\n",
        "Answer:- \"==\" operator is used to compare the value of  an object. It compares whether values are same or not.\n",
        "          \"is\" operator is uesd to check the identity of the two objects.\n"
      ],
      "metadata": {
        "id": "xsevIWX_tSIc"
      }
    },
    {
      "cell_type": "markdown",
      "source": [
        "#"
      ],
      "metadata": {
        "id": "htRl7grNw4pR"
      }
    },
    {
      "cell_type": "markdown",
      "source": [
        "Question.8.What are logical operators in Python ?\n",
        "\n",
        "Answer:- Logical operators in Python are used to combine or modify conditional statements, allowing for more complex decision-making within programs. They operate on Boolean values (True or False) and return a Boolean result.\n",
        "\n",
        "\n",
        "Python provides three primary logical operators:\n",
        "\n",
        "1. and (Logical AND):\n",
        "Returns True if both operands are True.\n",
        "Returns False if either or both operands are False.\n",
        "Example: (5 > 3) and (10 < 20) evaluates to True.\n",
        "\n",
        "2. or (Logical OR):\n",
        "Returns True if at least one of the operands is True.\n",
        "Returns False only if both operands are False.\n",
        "Example: (5 > 10) or (7 == 7) evaluates to True.\n",
        "\n",
        "3. not (Logical NOT):\n",
        "A unary operator that reverses the Boolean value of its operand.\n",
        "If the operand is True, not returns False.\n",
        "If the operand is False, not returns True.\n",
        "Example: not (5 > 3) evaluates to False."
      ],
      "metadata": {
        "id": "dovU0b48uuDV"
      }
    },
    {
      "cell_type": "markdown",
      "source": [
        "#"
      ],
      "metadata": {
        "id": "XYz9N-YrnLNZ"
      }
    },
    {
      "cell_type": "markdown",
      "source": [
        "Question.9. What is type casting in Python?\n",
        "\n",
        "Answer:- Type casting in Python refers to converting the data type of a value from one type to another. This is useful when you need to perform operations that require specific data types.\n",
        "\n",
        "There are two main types of type casting:\n",
        "\n",
        "1. Explicit Type Casting\n",
        "2.Implicit Type Casting"
      ],
      "metadata": {
        "id": "DkbJqHASnMpF"
      }
    },
    {
      "cell_type": "markdown",
      "source": [
        "#"
      ],
      "metadata": {
        "id": "38yeQni9pJMl"
      }
    },
    {
      "cell_type": "markdown",
      "source": [
        "Question.10. What is the difference between implicit and explicit type casting?\n",
        "\n",
        "Answer:-\n",
        "\n",
        "Implicit Type Casting:\n",
        "\n",
        "Automatic: The compiler or interpreter handles the conversion automatically, without requiring explicit instructions from the programmer.\n",
        "\n",
        "Widening: Typically involves converting a smaller data type to a larger one, ensuring no loss of data.\n",
        "Examples: Converting an integer to a float, or a short to an int.\n",
        "\n",
        "Advantages: Simplifies code, avoids potential errors from manual conversions.\n",
        "\n",
        "Disadvantages: May not always be predictable, can lead to unexpected behavior if not fully understood.\n",
        "\n",
        "\n",
        "Explicit Type Casting:\n",
        "\n",
        "Manual: The programmer explicitly specifies the conversion using a cast operator or function.\n",
        "\n",
        "Narrowing: Can involve converting a larger data type to a smaller one, potentially leading to data loss if not handled carefully.\n",
        "\n",
        "Examples: Converting a float to an integer, or a double to a long.\n",
        "\n",
        "Advantages: Provides control over the conversion process, ensures data is converted as intended.\n",
        "\n",
        "Disadvantages: Requires more code, can be prone to errors if not used correctly."
      ],
      "metadata": {
        "id": "1OEEUV0upJ4l"
      }
    },
    {
      "cell_type": "markdown",
      "source": [
        "#"
      ],
      "metadata": {
        "id": "9vhLUiTWp3QH"
      }
    },
    {
      "cell_type": "markdown",
      "source": [
        "Question.11.  What is the purpose of conditional statements in Python?\n",
        "\n",
        "Answer:- Conditional statements in Python serve the purpose of controlling the flow of a program based on whether specific conditions are true or false. They enable a program to make decisions and execute different blocks of code depending on various scenarios or inputs.\n",
        "\n",
        "\n",
        "The primary types of conditional statements in Python are:\n",
        "\n",
        "* if statement: Executes a block of code only if a given condition evaluates to True.\n",
        "\n",
        "* if-else statement: Executes one block of code if a condition is True and a different block of code if the condition is False.\n",
        "\n",
        "* if-elif-else statement: Allows for checking multiple conditions sequentially. It executes the block of code associated with the first True condition encountered, and if none of the if or elif conditions are met, it executes the else block."
      ],
      "metadata": {
        "id": "QV1WERJ4p2gN"
      }
    },
    {
      "cell_type": "markdown",
      "source": [
        "#"
      ],
      "metadata": {
        "id": "_BIC51Ovq2Hh"
      }
    },
    {
      "cell_type": "markdown",
      "source": [
        "Question.12.How does the elif statement work?\n",
        "\n",
        "Answer:- \"elif\" is short for \"else if,\" woks as:\n",
        "\n",
        "1. Python checks the first if condition:\n",
        "\n",
        "   * If it's True, that block runs, and the rest is skipped.\n",
        "\n",
        "2. If the if condition is False, Python checks each elif condition in order.\n",
        "\n",
        "3. The first elif that evaluates to True runs its block.\n",
        "\n",
        "4. If none of the conditions are true, the optional else block runs.\n",
        "\n",
        "Syntax:\n",
        "      if condition1:\n",
        "    # Code block 1\n",
        "elif condition2:\n",
        "    # Code block 2\n",
        "elif condition3:\n",
        "    # Code block 3\n",
        "else:\n",
        "    # Default code block"
      ],
      "metadata": {
        "id": "wbJT_sU8q3X_"
      }
    },
    {
      "cell_type": "markdown",
      "source": [
        "#"
      ],
      "metadata": {
        "id": "2VQtiFSHtEwH"
      }
    },
    {
      "cell_type": "markdown",
      "source": [
        "Question.13. What is the difference between for and while loops?\n",
        "\n",
        "Answer:-\n",
        "\n",
        "The main difference between for and while loops lies in their structure and intended use. for loops are generally used when the number of iterations is known beforehand, while while loops are preferred when the number of iterations is not predetermined and depends on a condition.\n",
        "\n",
        "Here's a more detailed breakdown:\n",
        "\n",
        "for loop:\n",
        "\n",
        "* Structure: Typically involves initialization, a condition check, and an increment/decrement operation, all within the loop's definition.\n",
        "* Usage: Ideal for iterating over a sequence of values (like lists, ranges, etc.) or when you know exactly how many times the loop needs to execute.\n",
        "* Example: for i in range(10): (iterates 10 times).\n",
        "\n",
        "while loop:\n",
        "\n",
        "* Structure: Executes a block of code as long as a specified condition is true.\n",
        "* Usage: Useful when the number of iterations is uncertain and depends on a condition that might change during the loop's execution.\n",
        "* Example: while x < 10: (continues as long as x is less than 10).\n"
      ],
      "metadata": {
        "id": "hYjZnZUmtFiN"
      }
    },
    {
      "cell_type": "markdown",
      "source": [
        "#"
      ],
      "metadata": {
        "id": "hxf8huuEuSAW"
      }
    },
    {
      "cell_type": "markdown",
      "source": [
        "Question.14. Describe a scenario where a while loop is more suitable than a for loop.\n",
        "\n",
        "Answer:-\n",
        "\n",
        "To know a scenarion let's take our childhood game as an example:\n",
        "\n",
        "* You're playing \"ludo\" game. So, to open your \"peice\" there needed a condition that either you're getting \"1\" in dice or \"6\".\n",
        "* so in this you don't how many turn you needed to get a \"6\" or \"1\" in dice .\n",
        "\n",
        "* so a while loop is perfect here.\n",
        "\n",
        "Let's make syntax using this example:\n",
        "\n",
        "    Dice=input(\"You're getting a number in dice out of 6\")\n",
        "    while (Dice!= 6 or Dice!= 1):\n",
        "      print(\"You didn't get a \"6\" or \"1\". Try again!\")\n",
        "      Dice=input(\"You're getting a number in dice out of 6\")\n",
        "    print(\"You're open by\", Dice)\n",
        "\n"
      ],
      "metadata": {
        "id": "rj3dn7mCusWM"
      }
    },
    {
      "cell_type": "markdown",
      "source": [
        "#End  of Theory Part"
      ],
      "metadata": {
        "id": "hu-M1_57zEb-"
      }
    },
    {
      "cell_type": "markdown",
      "source": [
        "#Starting Practical Questions"
      ],
      "metadata": {
        "id": "uKQfbexRzQjr"
      }
    },
    {
      "cell_type": "markdown",
      "source": [
        "#1.Write a Python program to print \"Hello, World!\""
      ],
      "metadata": {
        "id": "a-oIp0SfzVAy"
      }
    },
    {
      "cell_type": "code",
      "source": [
        "print(\"Hello, World!\")"
      ],
      "metadata": {
        "id": "dZF0fM0hziok"
      },
      "execution_count": null,
      "outputs": []
    },
    {
      "cell_type": "markdown",
      "source": [
        "# 2.Write a Python program that displays your name and age"
      ],
      "metadata": {
        "id": "9I9YuEhdzFzo"
      }
    },
    {
      "cell_type": "code",
      "source": [
        "Name = input(\"Enter your name: \")\n",
        "Age = input(\"Enter your age: \")\n",
        "print(\"Name:\", Name)\n",
        "print(\"Age:\", Age)"
      ],
      "metadata": {
        "id": "W0m-SUYm8jK-"
      },
      "execution_count": null,
      "outputs": []
    },
    {
      "cell_type": "markdown",
      "source": [
        "#  3.Write code to print all the pre-defined keywords in Python using the keyword library"
      ],
      "metadata": {
        "id": "tGp21i08_zye"
      }
    },
    {
      "cell_type": "code",
      "source": [
        "import keyword\n",
        "print(keyword.kwlist)"
      ],
      "metadata": {
        "id": "UxVDhHrH_7oE"
      },
      "execution_count": null,
      "outputs": []
    },
    {
      "cell_type": "markdown",
      "source": [
        "#  4.Write a program that checks if a given word is a Python keyword."
      ],
      "metadata": {
        "id": "BziAjDcMAwSi"
      }
    },
    {
      "cell_type": "code",
      "source": [
        "import keyword\n",
        "Key_word=input(\"Enter a key \")\n",
        "if Key_word in keyword.kwlist:\n",
        "  print(\"It's a keyword\")\n",
        "else:\n",
        "  print(\"It's not a keyword\")"
      ],
      "metadata": {
        "id": "BMADEGnDA1si"
      },
      "execution_count": null,
      "outputs": []
    },
    {
      "cell_type": "markdown",
      "source": [
        "# 5.Create a list and tuple in Python, and demonstrate how attempting to change an element works differently for each"
      ],
      "metadata": {
        "id": "fcr0E4mABs2s"
      }
    },
    {
      "cell_type": "code",
      "source": [
        "list= [10,20,30,40,50,60]\n",
        "print(list)\n",
        "list[5]=100\n",
        "print(list)\n",
        "print(\"=\"*80)\n",
        "tup = (10,20,30,40,50,60)\n",
        "print(tup)\n",
        "tup[0]=1\n",
        "print(tup)"
      ],
      "metadata": {
        "id": "xSxG3bCYBz12"
      },
      "execution_count": null,
      "outputs": []
    },
    {
      "cell_type": "markdown",
      "source": [
        "# 6. Write a function to demonstrate the behavior of mutable and immutable arguments."
      ],
      "metadata": {
        "id": "ErSj2VcODL_-"
      }
    },
    {
      "cell_type": "code",
      "source": [
        "def demonstrate_mutable_immutable(immutable_obj, mutable_obj):\n",
        "    print(\"Inside function BEFORE modification:\")\n",
        "    print(\"Immutable object:\", immutable_obj)\n",
        "    print(\"Mutable object:\", mutable_obj)\n",
        "\n",
        "    # Attempt to modify the immutable object (e.g., int)\n",
        "    immutable_obj += 100  # This creates a new int object\n",
        "\n",
        "    # Modify the mutable object (e.g., list)\n",
        "    mutable_obj.append(\"new item\")\n",
        "\n",
        "    print(\"Inside function AFTER modification:\")\n",
        "    print(\"Immutable object:\", immutable_obj)\n",
        "    print(\"Mutable object:\", mutable_obj)"
      ],
      "metadata": {
        "id": "i0fRAgjHDUe0"
      },
      "execution_count": 1,
      "outputs": []
    },
    {
      "cell_type": "markdown",
      "source": [
        "#  7.Write a program that performs basic arithmetic operations on two user-input numbers."
      ],
      "metadata": {
        "id": "g3CpdtxODSYv"
      }
    },
    {
      "cell_type": "code",
      "source": [
        "Int1=int(input(\"Enter a number\"))\n",
        "Int2=int(input(\"Enter a number\"))\n",
        "print(\"Sum is\",Int1+Int2)\n",
        "print(\"Substraction is \",Int1-Int2)\n",
        "print(\"Multiply is\",Int1*Int2)\n",
        "print(\"Division is \",Int1/Int2)\n",
        "print(\"Remainder is \", Int1%Int2)"
      ],
      "metadata": {
        "id": "7GSuC2w6DbE1"
      },
      "execution_count": null,
      "outputs": []
    },
    {
      "cell_type": "markdown",
      "source": [
        "#  8.Write a program to demonstrate the use of logical operators."
      ],
      "metadata": {
        "id": "h25RqWDeDbgL"
      }
    },
    {
      "cell_type": "code",
      "source": [
        "x = 10\n",
        "y = 5\n",
        "z = 0\n",
        "\n",
        "print(\"x =\", x)\n",
        "print(\"y =\", y)\n",
        "print(\"z =\", z)\n",
        "\n",
        "print(\"\\n--- Logical Operator Examples ---\")\n",
        "\n",
        "print(\"x > y and y > z:\", x > y and y > z)\n",
        "print(\"x > y and y < z:\", x > y and y < z)\n",
        "\n",
        "print(\"x < y or y > z:\", x < y or y > z)\n",
        "print(\"x < y or z < y:\", x < y or z < y)\n",
        "\n",
        "print(\"not(x > y):\", not(x > y))\n",
        "print(\"not(z):\", not(z))"
      ],
      "metadata": {
        "id": "9iASRnWdDgTF"
      },
      "execution_count": null,
      "outputs": []
    },
    {
      "cell_type": "markdown",
      "source": [
        "# 9.Write a Python program to convert user input from string to integer, float, and boolean types"
      ],
      "metadata": {
        "id": "2JmJtQAeDf0F"
      }
    },
    {
      "cell_type": "code",
      "source": [
        "Val = input(\"Enter the value :\")\n",
        "print(type(Val),Val)\n",
        "Val_Int=int(Val)\n",
        "print(type(Val_Int),Val_Int)\n",
        "Val_Float=float(Val)\n",
        "print(type(Val_Float),Val_Float)\n",
        "Val_Bool=bool(Val)\n",
        "print(type(Val_Bool),Val_Bool)"
      ],
      "metadata": {
        "id": "6dCkhNjMDlQv"
      },
      "execution_count": null,
      "outputs": []
    },
    {
      "cell_type": "markdown",
      "source": [
        "#10.Write code to demonstrate type casting with list elements."
      ],
      "metadata": {
        "id": "2zxnORjNDlqD"
      }
    },
    {
      "cell_type": "code",
      "source": [
        "str_list = [\"1\", \"2\", \"3\", \"4.5\", \"5.0\"]\n",
        "\n",
        "print(\"Original list (strings):\", str_list)\n",
        "\n",
        "int_list = [int(float(item)) for item in str_list]\n",
        "print(\"List after converting to integers:\", int_list)\n",
        "\n",
        "float_list = [float(item) for item in str_list]\n",
        "print(\"List after converting to floats:\", float_list)\n",
        "\n",
        "\n",
        "str_again = [str(item) for item in float_list]\n",
        "print(\"List after converting back to strings:\", str_again)"
      ],
      "metadata": {
        "id": "yM3GB_uTDpJU",
        "colab": {
          "base_uri": "https://localhost:8080/"
        },
        "outputId": "d0d23ae4-094c-453b-aeee-e0f489ea747e"
      },
      "execution_count": 2,
      "outputs": [
        {
          "output_type": "stream",
          "name": "stdout",
          "text": [
            "Original list (strings): ['1', '2', '3', '4.5', '5.0']\n",
            "List after converting to integers: [1, 2, 3, 4, 5]\n",
            "List after converting to floats: [1.0, 2.0, 3.0, 4.5, 5.0]\n",
            "List after converting back to strings: ['1.0', '2.0', '3.0', '4.5', '5.0']\n"
          ]
        }
      ]
    },
    {
      "cell_type": "markdown",
      "source": [
        "#11. Write a program that checks if a number is positive, negative, or zero."
      ],
      "metadata": {
        "id": "RIMaKoQoDplI"
      }
    },
    {
      "cell_type": "code",
      "source": [
        "Int =int(input(\"Enter a number\"))\n",
        "if Int>0:\n",
        "  print(\"Positive\")\n",
        "elif Int<0:\n",
        "  print(\"Negative\")\n",
        "else:\n",
        "  print(\"Zero\")"
      ],
      "metadata": {
        "id": "kWt16syXDv7K"
      },
      "execution_count": null,
      "outputs": []
    },
    {
      "cell_type": "markdown",
      "source": [
        "#  12.Write a for loop to print numbers from 1 to 10."
      ],
      "metadata": {
        "id": "f3LiS7VEDwXJ"
      }
    },
    {
      "cell_type": "code",
      "source": [
        "for i in range(1,11):\n",
        "  print(i)"
      ],
      "metadata": {
        "id": "YiWY0gkIDz_Q"
      },
      "execution_count": null,
      "outputs": []
    },
    {
      "cell_type": "markdown",
      "source": [
        "#  13.Write a Python program to find the sum of all even numbers between 1 and 50."
      ],
      "metadata": {
        "id": "49GYABbxD0dA"
      }
    },
    {
      "cell_type": "code",
      "source": [
        "Sum=0\n",
        "for i in range(1,51):\n",
        "  if(i%2==0):\n",
        "    Sum=Sum+i\n",
        "print(Sum)\n"
      ],
      "metadata": {
        "id": "tpaFVp1cD6qb"
      },
      "execution_count": null,
      "outputs": []
    },
    {
      "cell_type": "markdown",
      "source": [
        "#14.Write a program to reverse a string using a while loop"
      ],
      "metadata": {
        "id": "gD_OKRSQD5Rg"
      }
    },
    {
      "cell_type": "code",
      "source": [
        "Input_String = input(\"Enter a string \")\n",
        "Reversed_String = \"\"\n",
        "Length = len(Input_String)\n",
        "while Length > 0:\n",
        "  Reversed_String += Input_String[Length - 1]\n",
        "  Length = Length - 1\n",
        "print(Reversed_String)"
      ],
      "metadata": {
        "id": "fOPmbiFEEAJG"
      },
      "execution_count": null,
      "outputs": []
    },
    {
      "cell_type": "markdown",
      "source": [
        "#15. Write a Python program to calculate the factorial of a number provided by the user using a while loop."
      ],
      "metadata": {
        "id": "LCj5PbFiEAl8"
      }
    },
    {
      "cell_type": "code",
      "source": [
        "Factorial=int(input(\"Enter a Number greater than 1\"))\n",
        "fact=Factorial\n",
        "while(fact>2):\n",
        "  fact=fact-1\n",
        "  Factorial=fact*Factorial\n",
        "print(f\"Factorial of given number is {Factorial}\")"
      ],
      "metadata": {
        "collapsed": true,
        "id": "xylhkXD1D5ta"
      },
      "execution_count": null,
      "outputs": []
    }
  ]
}